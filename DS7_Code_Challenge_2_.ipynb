{
  "nbformat": 4,
  "nbformat_minor": 0,
  "metadata": {
    "colab": {
      "name": "Copy of DS7 Code Challenge #2 .ipynb",
      "version": "0.3.2",
      "provenance": [],
      "collapsed_sections": [],
      "include_colab_link": true
    },
    "kernelspec": {
      "name": "python3",
      "display_name": "Python 3"
    }
  },
  "cells": [
    {
      "cell_type": "markdown",
      "metadata": {
        "id": "view-in-github",
        "colab_type": "text"
      },
      "source": [
        "<a href=\"https://colab.research.google.com/github/strangelycutlemon/misc_code_challenges/blob/master/DS7_Code_Challenge_2_.ipynb\" target=\"_parent\"><img src=\"https://colab.research.google.com/assets/colab-badge.svg\" alt=\"Open In Colab\"/></a>"
      ]
    },
    {
      "cell_type": "code",
      "metadata": {
        "id": "1mH8vEFHwckN",
        "colab_type": "code",
        "colab": {}
      },
      "source": [
        "#Create three functions for calculating the mean, median, and mode without importing libraries "
      ],
      "execution_count": 0,
      "outputs": []
    },
    {
      "cell_type": "code",
      "metadata": {
        "id": "EYmLGvtSKV9l",
        "colab_type": "code",
        "colab": {}
      },
      "source": [
        "def mean(numbers):\n",
        "  return sum(numbers)/len(numbers)"
      ],
      "execution_count": 0,
      "outputs": []
    },
    {
      "cell_type": "code",
      "metadata": {
        "id": "nxYQAcRfKWIR",
        "colab_type": "code",
        "outputId": "f686d477-9997-4695-d352-7f21c9247678",
        "colab": {
          "base_uri": "https://localhost:8080/",
          "height": 52
        }
      },
      "source": [
        "def median(numbers):\n",
        "  if len(numbers) % 2 == 0:\n",
        "    halfway = len(numbers)/2\n",
        "    return sum(sorted(numbers)[int(halfway)-1:int(halfway)+1])/2\n",
        "  else:\n",
        "    halfway = len(numbers)//2\n",
        "    return sorted(numbers)[halfway]\n",
        "  \n",
        "even_list = [1,2,3,4,5,6,7,8,9,10]\n",
        "odd_list = [1,2,3,4,5,6,7,8,9,10,11]\n",
        "\n",
        "print(median(even_list))\n",
        "print(median(odd_list))"
      ],
      "execution_count": 0,
      "outputs": [
        {
          "output_type": "stream",
          "text": [
            "5.5\n",
            "6\n"
          ],
          "name": "stdout"
        }
      ]
    },
    {
      "cell_type": "code",
      "metadata": {
        "id": "BbXcgAtvKWb4",
        "colab_type": "code",
        "outputId": "83754a5e-27d6-404e-ec25-1b01ff7a16d2",
        "colab": {
          "base_uri": "https://localhost:8080/",
          "height": 35
        }
      },
      "source": [
        "def mode(numbers):\n",
        "  highest = 0\n",
        "  mode = 0\n",
        "  no_mode = False\n",
        "  for i in set(numbers):\n",
        "#     print(\"_____________\")\n",
        "#     print(i)\n",
        "#     print(highest, \"|\", mode)\n",
        "    counted = numbers.count(i)\n",
        "#     print(\"counted:\", counted)\n",
        "#     print(\"No mode?\", no_mode)\n",
        "    if counted > highest:\n",
        "      highest = counted\n",
        "      mode = i\n",
        "      no_mode = False\n",
        "    elif counted == highest and i != mode:\n",
        "#       print(counted, \"is equal to\", highest)\n",
        "      no_mode = True\n",
        "#     print(\"mode so far:\", mode, \"counted\", highest, \"times\")\n",
        "  if no_mode == False:\n",
        "    return mode\n",
        "  elif no_mode == True:\n",
        "    return \"No mode!\"\n",
        "  \n",
        "mode_list = [1,2,3,4,5,6,6,7,7,7,7,7,9]\n",
        "\n",
        "mode(mode_list)"
      ],
      "execution_count": 0,
      "outputs": [
        {
          "output_type": "execute_result",
          "data": {
            "text/plain": [
              "7"
            ]
          },
          "metadata": {
            "tags": []
          },
          "execution_count": 38
        }
      ]
    },
    {
      "cell_type": "code",
      "metadata": {
        "id": "hf7FQTbhyvDe",
        "colab_type": "code",
        "colab": {}
      },
      "source": [
        "#Create three functions for calculating the variance, standard deviation, and coefficient of variation (You may use NumPy but not for its math methods)"
      ],
      "execution_count": 0,
      "outputs": []
    },
    {
      "cell_type": "code",
      "metadata": {
        "id": "PgVcb97hKXRf",
        "colab_type": "code",
        "colab": {}
      },
      "source": [
        "import numpy as np"
      ],
      "execution_count": 0,
      "outputs": []
    },
    {
      "cell_type": "code",
      "metadata": {
        "id": "2N8CDLOmkzai",
        "colab_type": "code",
        "outputId": "75246775-b821-44dc-bcc5-619a2ac0f049",
        "colab": {
          "base_uri": "https://localhost:8080/",
          "height": 35
        }
      },
      "source": [
        "def variance(numbers):\n",
        "  sample_mean = mean(numbers)\n",
        "  squared_deviations = []\n",
        "  for i in numbers:\n",
        "    deviation = i - sample_mean\n",
        "    squared_deviations.append(deviation**2)\n",
        "  sse = sum(squared_deviations)\n",
        "  return sse/(len(numbers)-1)\n",
        "\n",
        "dataset = [17,15,23,7,9,13]\n",
        "\n",
        "variance(dataset)"
      ],
      "execution_count": 0,
      "outputs": [
        {
          "output_type": "execute_result",
          "data": {
            "text/plain": [
              "33.2"
            ]
          },
          "metadata": {
            "tags": []
          },
          "execution_count": 24
        }
      ]
    },
    {
      "cell_type": "code",
      "metadata": {
        "id": "yakagw7PKXZW",
        "colab_type": "code",
        "outputId": "36958736-60cd-4141-c039-b5589bfd9bfa",
        "colab": {
          "base_uri": "https://localhost:8080/",
          "height": 35
        }
      },
      "source": [
        "def std(numbers):\n",
        "  return (variance(numbers))**0.5\n",
        "\n",
        "std(dataset)"
      ],
      "execution_count": 0,
      "outputs": [
        {
          "output_type": "execute_result",
          "data": {
            "text/plain": [
              "5.761944116355173"
            ]
          },
          "metadata": {
            "tags": []
          },
          "execution_count": 25
        }
      ]
    },
    {
      "cell_type": "code",
      "metadata": {
        "id": "JvxrU8V-KXg0",
        "colab_type": "code",
        "outputId": "aa32b7c6-ec91-4d59-ce7c-fc33c4dda924",
        "colab": {
          "base_uri": "https://localhost:8080/",
          "height": 35
        }
      },
      "source": [
        "def coef_var(numbers):\n",
        "  return std(numbers)/mean(numbers)\n",
        "\n",
        "coef_var(dataset)"
      ],
      "execution_count": 0,
      "outputs": [
        {
          "output_type": "execute_result",
          "data": {
            "text/plain": [
              "0.41156743688251235"
            ]
          },
          "metadata": {
            "tags": []
          },
          "execution_count": 28
        }
      ]
    },
    {
      "cell_type": "code",
      "metadata": {
        "id": "xw3YKfpqmu9O",
        "colab_type": "code",
        "colab": {}
      },
      "source": [
        ""
      ],
      "execution_count": 0,
      "outputs": []
    },
    {
      "cell_type": "code",
      "metadata": {
        "id": "e0s6wshVyvGP",
        "colab_type": "code",
        "colab": {}
      },
      "source": [
        "import pandas as pd\n",
        "import seaborn as sns\n",
        "import matplotlib.pyplot as plt\n",
        "\n",
        "titanic = pd.read_csv(\"https://raw.githubusercontent.com/ryanleeallred/datasets/master/titanic.csv\")\n",
        "#With the sex column, use a lambda function to convert female into 1 and male into 0\n",
        "#With the class column, use pandas map method to convert First to 3, Second to 2, and Third to 1 in one line of code. DO NOT explicitly write out a dictionary!!!"
      ],
      "execution_count": 0,
      "outputs": []
    },
    {
      "cell_type": "code",
      "metadata": {
        "id": "Z959VwweKZQn",
        "colab_type": "code",
        "outputId": "84027b7e-8cab-4eeb-f5fe-3a6cebfbe590",
        "colab": {
          "base_uri": "https://localhost:8080/",
          "height": 239
        }
      },
      "source": [
        "titanic.head()"
      ],
      "execution_count": 0,
      "outputs": [
        {
          "output_type": "execute_result",
          "data": {
            "text/html": [
              "<div>\n",
              "<style scoped>\n",
              "    .dataframe tbody tr th:only-of-type {\n",
              "        vertical-align: middle;\n",
              "    }\n",
              "\n",
              "    .dataframe tbody tr th {\n",
              "        vertical-align: top;\n",
              "    }\n",
              "\n",
              "    .dataframe thead th {\n",
              "        text-align: right;\n",
              "    }\n",
              "</style>\n",
              "<table border=\"1\" class=\"dataframe\">\n",
              "  <thead>\n",
              "    <tr style=\"text-align: right;\">\n",
              "      <th></th>\n",
              "      <th>Unnamed: 0</th>\n",
              "      <th>survived</th>\n",
              "      <th>pclass</th>\n",
              "      <th>sex</th>\n",
              "      <th>age</th>\n",
              "      <th>sibsp</th>\n",
              "      <th>parch</th>\n",
              "      <th>fare</th>\n",
              "      <th>embarked</th>\n",
              "      <th>class</th>\n",
              "      <th>who</th>\n",
              "      <th>adult_male</th>\n",
              "      <th>deck</th>\n",
              "      <th>embark_town</th>\n",
              "      <th>alive</th>\n",
              "      <th>alone</th>\n",
              "    </tr>\n",
              "  </thead>\n",
              "  <tbody>\n",
              "    <tr>\n",
              "      <th>0</th>\n",
              "      <td>0</td>\n",
              "      <td>0</td>\n",
              "      <td>3</td>\n",
              "      <td>male</td>\n",
              "      <td>22.0</td>\n",
              "      <td>1</td>\n",
              "      <td>0</td>\n",
              "      <td>7.2500</td>\n",
              "      <td>S</td>\n",
              "      <td>Third</td>\n",
              "      <td>man</td>\n",
              "      <td>True</td>\n",
              "      <td>NaN</td>\n",
              "      <td>Southampton</td>\n",
              "      <td>no</td>\n",
              "      <td>False</td>\n",
              "    </tr>\n",
              "    <tr>\n",
              "      <th>1</th>\n",
              "      <td>1</td>\n",
              "      <td>1</td>\n",
              "      <td>1</td>\n",
              "      <td>female</td>\n",
              "      <td>38.0</td>\n",
              "      <td>1</td>\n",
              "      <td>0</td>\n",
              "      <td>71.2833</td>\n",
              "      <td>C</td>\n",
              "      <td>First</td>\n",
              "      <td>woman</td>\n",
              "      <td>False</td>\n",
              "      <td>C</td>\n",
              "      <td>Cherbourg</td>\n",
              "      <td>yes</td>\n",
              "      <td>False</td>\n",
              "    </tr>\n",
              "    <tr>\n",
              "      <th>2</th>\n",
              "      <td>2</td>\n",
              "      <td>1</td>\n",
              "      <td>3</td>\n",
              "      <td>female</td>\n",
              "      <td>26.0</td>\n",
              "      <td>0</td>\n",
              "      <td>0</td>\n",
              "      <td>7.9250</td>\n",
              "      <td>S</td>\n",
              "      <td>Third</td>\n",
              "      <td>woman</td>\n",
              "      <td>False</td>\n",
              "      <td>NaN</td>\n",
              "      <td>Southampton</td>\n",
              "      <td>yes</td>\n",
              "      <td>True</td>\n",
              "    </tr>\n",
              "    <tr>\n",
              "      <th>3</th>\n",
              "      <td>3</td>\n",
              "      <td>1</td>\n",
              "      <td>1</td>\n",
              "      <td>female</td>\n",
              "      <td>35.0</td>\n",
              "      <td>1</td>\n",
              "      <td>0</td>\n",
              "      <td>53.1000</td>\n",
              "      <td>S</td>\n",
              "      <td>First</td>\n",
              "      <td>woman</td>\n",
              "      <td>False</td>\n",
              "      <td>C</td>\n",
              "      <td>Southampton</td>\n",
              "      <td>yes</td>\n",
              "      <td>False</td>\n",
              "    </tr>\n",
              "    <tr>\n",
              "      <th>4</th>\n",
              "      <td>4</td>\n",
              "      <td>0</td>\n",
              "      <td>3</td>\n",
              "      <td>male</td>\n",
              "      <td>35.0</td>\n",
              "      <td>0</td>\n",
              "      <td>0</td>\n",
              "      <td>8.0500</td>\n",
              "      <td>S</td>\n",
              "      <td>Third</td>\n",
              "      <td>man</td>\n",
              "      <td>True</td>\n",
              "      <td>NaN</td>\n",
              "      <td>Southampton</td>\n",
              "      <td>no</td>\n",
              "      <td>True</td>\n",
              "    </tr>\n",
              "  </tbody>\n",
              "</table>\n",
              "</div>"
            ],
            "text/plain": [
              "   Unnamed: 0  survived  pclass     sex  ...  deck  embark_town  alive  alone\n",
              "0           0         0       3    male  ...   NaN  Southampton     no  False\n",
              "1           1         1       1  female  ...     C    Cherbourg    yes  False\n",
              "2           2         1       3  female  ...   NaN  Southampton    yes   True\n",
              "3           3         1       1  female  ...     C  Southampton    yes  False\n",
              "4           4         0       3    male  ...   NaN  Southampton     no   True\n",
              "\n",
              "[5 rows x 16 columns]"
            ]
          },
          "metadata": {
            "tags": []
          },
          "execution_count": 30
        }
      ]
    },
    {
      "cell_type": "code",
      "metadata": {
        "id": "3siUHAkUKZiX",
        "colab_type": "code",
        "colab": {}
      },
      "source": [
        "titanic['sex'] = titanic['sex'].apply(lambda x: 1 if x == 'female' else 0)"
      ],
      "execution_count": 0,
      "outputs": []
    },
    {
      "cell_type": "code",
      "metadata": {
        "id": "q3T-8W8eobrj",
        "colab_type": "code",
        "colab": {}
      },
      "source": [
        "titanic['class'] = titanic['class'].map(lambda x: 1 if x == 'Third' else (2 if x == 'Second' else 3))"
      ],
      "execution_count": 0,
      "outputs": []
    },
    {
      "cell_type": "code",
      "metadata": {
        "id": "LEFtsYbfyvZA",
        "colab_type": "code",
        "outputId": "64ca0b7c-b8ca-41ee-d281-9cb5eda14fb0",
        "colab": {
          "base_uri": "https://localhost:8080/",
          "height": 446
        }
      },
      "source": [
        "plt.figure(figsize=(12, 7))\n",
        "sns.boxplot(x='class',y='age',data=titanic,palette='winter');"
      ],
      "execution_count": 0,
      "outputs": [
        {
          "output_type": "display_data",
          "data": {
            "image/png": "[encoded data removed]",
            "text/plain": [
              "<Figure size 864x504 with 1 Axes>"
            ]
          },
          "metadata": {
            "tags": []
          }
        }
      ]
    },
    {
      "cell_type": "code",
      "metadata": {
        "id": "UhYk21Tzyvbg",
        "colab_type": "code",
        "colab": {}
      },
      "source": [
        "'''\n",
        "Notice that wealthier passengers in the higher classes tend to be older. \n",
        "We'll use these average age values to impute based on class for age.\n",
        "Can you create a function that replaces null values if class is == 1 returns 37, if class is == 2 returns 29 and 29 for remaining class?\n",
        "\n",
        "'''"
      ],
      "execution_count": 0,
      "outputs": []
    },
    {
      "cell_type": "code",
      "metadata": {
        "id": "SOLafi4eKT6K",
        "colab_type": "code",
        "colab": {}
      },
      "source": [
        "def impute_age(cols):\n",
        "  Age = cols[1]\n",
        "  Class = cols[1]\n",
        "  \n",
        "  if pd.isnull(Age):\n",
        "    if Class == 1:\n",
        "      return 37\n",
        "    if Class == 2:\n",
        "      return 29\n",
        "    else:\n",
        "      return 29\n"
      ],
      "execution_count": 0,
      "outputs": []
    },
    {
      "cell_type": "code",
      "metadata": {
        "id": "CMGx34FFKbPp",
        "colab_type": "code",
        "colab": {}
      },
      "source": [
        "titanic['Age'] = titanic[['Age', 'Class']].map"
      ],
      "execution_count": 0,
      "outputs": []
    },
    {
      "cell_type": "code",
      "metadata": {
        "id": "dPLhlNlKKcLJ",
        "colab_type": "code",
        "colab": {}
      },
      "source": [
        "#Can you turn your six math functions from above into a Python class? "
      ],
      "execution_count": 0,
      "outputs": []
    }
  ]
}