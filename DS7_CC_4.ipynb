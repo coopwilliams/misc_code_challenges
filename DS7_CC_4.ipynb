{
  "nbformat": 4,
  "nbformat_minor": 0,
  "metadata": {
    "colab": {
      "name": "Copy of DS7 CC #4.ipynb",
      "version": "0.3.2",
      "provenance": [],
      "collapsed_sections": [],
      "include_colab_link": true
    },
    "kernelspec": {
      "name": "python3",
      "display_name": "Python 3"
    }
  },
  "cells": [
    {
      "cell_type": "markdown",
      "metadata": {
        "id": "view-in-github",
        "colab_type": "text"
      },
      "source": [
        "<a href=\"https://colab.research.google.com/github/strangelycutlemon/misc_code_challenges/blob/master/DS7_CC_4.ipynb\" target=\"_parent\"><img src=\"https://colab.research.google.com/assets/colab-badge.svg\" alt=\"Open In Colab\"/></a>"
      ]
    },
    {
      "cell_type": "markdown",
      "metadata": {
        "id": "a5AVjtafH-bq",
        "colab_type": "text"
      },
      "source": [
        "# Part One\n",
        "## State the null hypothesis, alternative hypothesis, and if it is a one-tailed or two-tailed test. \n",
        "### Bonus: If it is one-tailed, can you determine if it is a right-tailed or a left-tailed test?\n",
        "\n",
        "1. We want to test if college students take less than five years to graduate from college, on the average.\n",
        "\n",
        "2. A company has stated that their straw machine makes straws that are 4mm in diameter. A worker believes the machine no longer makes straws of this size and samples 100 straws to perfrom a hypothesis test with 99% confidence.\n",
        "\n",
        "3. Doctors believe that the average teen sleeps on average no longer than 10 hours per day. Andrea, a data scientist, believes that teens on average sleep longer. \n",
        "\n",
        "4. Lambda school claims that at least 60% of students do not turn on their cameras during lecture. Ira believes this number is too high and randomly samples 25 students to test at a level of significance of 0.02.\n",
        "\n",
        "5. A fair coin should land showing tails with a relative frequency of 50% in a long series of flips. Johana read that spinning-rather than flipping-a US penny on a flat surface is not fair, and that spinning a penny makes it more likely to land showing tails. She spun her own penny 100 times to test this, and the penny landed showing tails in 60% of the spins.\n"
      ]
    },
    {
      "cell_type": "markdown",
      "metadata": {
        "id": "v48gD-DlPitX",
        "colab_type": "text"
      },
      "source": [
        "## Helpful Tips!\n",
        "\n",
        "Let $H_0$ represent how we state the null hypothesis\n",
        "<br>\n",
        "Let $H_1$ represent how we state the alternative hypothesis\n",
        "<br>\n",
        "Let $\\mu$ represent how we write the population mean or the mean that is known to be true (Will depend on the situation)\n",
        "<br>\n",
        "Let $\\hat{p}$ represent how we write the population proportion or the proportion that is known to be true (Will depend on the situation)\n",
        "<br>\n",
        "<br>\n",
        "The follwing is read \"The null hypothesis is that mu (the population mean) is equal to a sample mean\"\n",
        "<br> And \"The alternative hypothesis is that mu (the population mean) is not equal to a sample mean\"\n",
        "<br>\n",
        "$H_0: \\mu =$ sample mean\n",
        "<br>\n",
        "$H_1: \\mu \\ne$ sample mean\n",
        "<br>\n",
        "<br>\n",
        "$H_0: \\mu \\geq$ sample mean\n",
        "<br>\n",
        "$H_1: \\mu <$ sample mean\n",
        "<br>\n",
        "<br>\n",
        "$H_0: \\mu \\leq$ sample mean\n",
        "<br>\n",
        "$H_1: \\mu >$ sample mean\n",
        "<br>\n",
        "<br>\n",
        "The following is read \"The null hypothesis is that the proportion (the population proportion) is equal to a sample proportion\"\n",
        "<br>\n",
        "And \"The alternative hypothesis is that the proportion (the population proportion) is greater than the sample proportion\"\n",
        "<br>\n",
        "$H_0: \\hat{p} =$ sample percentage/proportion\n",
        "<br>\n",
        "$H_1: \\hat{p} >$ sample percentage/proportion\n",
        "<br>\n",
        "<br>\n",
        "$H_0: \\hat{p} =$ sample percentage/proportion\n",
        "<br>\n",
        "$H_1: \\hat{p} <$ sample percentage/proportion"
      ]
    },
    {
      "cell_type": "markdown",
      "metadata": {
        "id": "w_wJqo3g0_zn",
        "colab_type": "text"
      },
      "source": [
        "## Your answers to the questions above\n",
        "1. $H_0: \\mu \\geq$ 5 years\n",
        "<br>\n",
        "$H_1: \\mu <$ 5 years\n",
        "<br>\n",
        "One Tailed test (left)\n",
        "<br>\n",
        "<br>\n",
        "2. $H_0: \\mu =$ 4mm\n",
        "<br>\n",
        "$H_1: \\mu \\ne$ 4mm\n",
        "<br>\n",
        "Two-tailed test\n",
        "<br>\n",
        "<br>\n",
        "3. $H_0: \\mu \\leq$ 10 hours\n",
        "<br>\n",
        "$H_1: \\mu >$ 10 hours\n",
        "<br>\n",
        "one-tailed test (right)\n",
        "<br>\n",
        "<br>\n",
        "4.$H_0: \\hat{p} \\geq$ 60%\n",
        "<br>\n",
        "$H_1: \\hat{p} <$ 60%\n",
        "<br>\n",
        "One-tailed test (left)\n",
        "<br>\n",
        "<br>\n",
        "5.$H_0: \\hat{p} =$ 50%\n",
        "<br>\n",
        "$H_1: \\hat{p} =$ 60%\n",
        "<br>\n",
        "two-tailed test\n",
        "<br>"
      ]
    },
    {
      "cell_type": "markdown",
      "metadata": {
        "id": "2KdsY4PNIUY8",
        "colab_type": "text"
      },
      "source": [
        "# Part Two\n",
        "## Using NumPy and Matplotlib, create a Gaussian distribution\n",
        "### Gaussian formula: $p(x) = \\frac{1}{\\sigma \\sqrt{2\\pi}}e^\\frac{-(x - \\mu)^2}{2\\sigma^2}$"
      ]
    },
    {
      "cell_type": "code",
      "metadata": {
        "id": "X93kBv-qBlKk",
        "colab_type": "code",
        "colab": {}
      },
      "source": [
        "import numpy as np"
      ],
      "execution_count": 0,
      "outputs": []
    },
    {
      "cell_type": "code",
      "metadata": {
        "id": "dDVnc6aHBlqR",
        "colab_type": "code",
        "colab": {}
      },
      "source": [
        "# mean and stdv\n",
        "mu, sigma = 0, 0.1\n",
        "\n",
        "g = np.random.normal(mu,sigma,1000)"
      ],
      "execution_count": 0,
      "outputs": []
    },
    {
      "cell_type": "code",
      "metadata": {
        "id": "3fReVNX5Bl5z",
        "colab_type": "code",
        "colab": {
          "base_uri": "https://localhost:8080/",
          "height": 269
        },
        "outputId": "9063c9f6-7834-4016-ac6d-c5bda32e04fd"
      },
      "source": [
        "import matplotlib.pyplot as plt\n",
        "\n",
        "plt.hist(g, 120);"
      ],
      "execution_count": 51,
      "outputs": [
        {
          "output_type": "display_data",
          "data": {
            "image/png": "[encoded data removed]",
            "text/plain": [
              "<Figure size 432x288 with 1 Axes>"
            ]
          },
          "metadata": {
            "tags": []
          }
        }
      ]
    },
    {
      "cell_type": "markdown",
      "metadata": {
        "id": "S3WQZuQSIUeq",
        "colab_type": "text"
      },
      "source": [
        "# Part Three\n",
        "## Create a function for a one sample t-test: Returns t-statistic (We will discuss how to find the p-value later)\n",
        "### One sample t-test formula: $t = \\frac{\\bar{x} - \\mu}{s / \\sqrt{N - 1}}$\n",
        "### You may use scipys ttest_1samp to check your answer\n",
        "#### T-Table\n",
        "![alt text](https://access-excel.tips/wp-content/uploads/2015/10/test-statistics-table.jpg)"
      ]
    },
    {
      "cell_type": "code",
      "metadata": {
        "id": "oIYgvehVB3AC",
        "colab_type": "code",
        "colab": {}
      },
      "source": [
        "# Use the following as your data to be tested\n",
        "my_data = np.array([1,3,3,5])\n",
        "other_data = np.array([3,4,4,7])"
      ],
      "execution_count": 0,
      "outputs": []
    },
    {
      "cell_type": "code",
      "metadata": {
        "id": "WeP1Vi1Uloej",
        "colab_type": "code",
        "colab": {}
      },
      "source": [
        "from scipy.stats import ttest_1samp\n",
        "import numpy as np\n",
        "import math"
      ],
      "execution_count": 0,
      "outputs": []
    },
    {
      "cell_type": "code",
      "metadata": {
        "id": "e1xl7u0Gg5r5",
        "colab_type": "code",
        "colab": {
          "base_uri": "https://localhost:8080/",
          "height": 67
        },
        "outputId": "22348d94-f391-4c33-f236-55d5e5deda07"
      },
      "source": [
        "def t_stat(array, pop_mean):\n",
        "  x_bar = sum(array) / len(array)\n",
        "  ss = sum((abs(x_bar - i))**2 for i in array)\n",
        "  variance = ss / (len(array)-1)\n",
        "  stdv = variance**0.5\n",
        "  print(x_bar, ss, variance, stdv)\n",
        "  t_statistic = (x_bar - pop_mean) / (stdv / ((len(array)-1)**0.5))\n",
        "  return(t_statistic)\n",
        "\n",
        "def t_stat_easy(array, mu):\n",
        "  x = array.mean()\n",
        "  N = len(array)\n",
        "  s = array.std()\n",
        "  return (x - mu) / ((s) / np.sqrt(N-1))\n",
        "\n",
        "print(t_stat(my_data, 3.5))\n",
        "print(t_stat_easy(my_data, 3.5))"
      ],
      "execution_count": 65,
      "outputs": [
        {
          "output_type": "stream",
          "text": [
            "3.0 8.0 2.6666666666666665 1.632993161855452\n",
            "-0.5303300858899106\n",
            "-0.6123724356957945\n"
          ],
          "name": "stdout"
        }
      ]
    },
    {
      "cell_type": "code",
      "metadata": {
        "id": "tbniAWg7AGHg",
        "colab_type": "code",
        "colab": {
          "base_uri": "https://localhost:8080/",
          "height": 34
        },
        "outputId": "b58c8bd2-d5c3-4e9e-d76a-0fed53ee9a20"
      },
      "source": [
        "ttest_1samp(my_data, 3.5)"
      ],
      "execution_count": 59,
      "outputs": [
        {
          "output_type": "execute_result",
          "data": {
            "text/plain": [
              "Ttest_1sampResult(statistic=-0.6123724356957945, pvalue=0.5835828115818577)"
            ]
          },
          "metadata": {
            "tags": []
          },
          "execution_count": 59
        }
      ]
    },
    {
      "cell_type": "code",
      "metadata": {
        "id": "yv6PWoXlaUjG",
        "colab_type": "code",
        "colab": {}
      },
      "source": [
        "# It seems to basically work. It doesn't get the exact same answer as SciPy does.\n",
        "# But it does give the correct sign and seems to calculate the values properly."
      ],
      "execution_count": 0,
      "outputs": []
    }
  ]
}