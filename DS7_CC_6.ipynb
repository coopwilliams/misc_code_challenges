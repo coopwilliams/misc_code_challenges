{
  "nbformat": 4,
  "nbformat_minor": 0,
  "metadata": {
    "colab": {
      "name": "DS7 CC#6.ipynb",
      "version": "0.3.2",
      "provenance": [],
      "collapsed_sections": [],
      "include_colab_link": true
    },
    "kernelspec": {
      "name": "python3",
      "display_name": "Python 3"
    }
  },
  "cells": [
    {
      "cell_type": "markdown",
      "metadata": {
        "id": "view-in-github",
        "colab_type": "text"
      },
      "source": [
        "<a href=\"https://colab.research.google.com/github/strangelycutlemon/misc_code_challenges/blob/master/DS7_CC_6.ipynb\" target=\"_parent\"><img src=\"https://colab.research.google.com/assets/colab-badge.svg\" alt=\"Open In Colab\"/></a>"
      ]
    },
    {
      "cell_type": "markdown",
      "metadata": {
        "id": "xfuFhN9qrN3q",
        "colab_type": "text"
      },
      "source": [
        "## Program the game Rock, Paper, Scissors\n",
        "- Program should allow user to enter their item (Rock, Paper, or Scissors)\n",
        "- Program will be Human vs Computer\n",
        "- Program should print the result of the game\n",
        "- Program should continue until the user wants to end the game\n",
        "- Program should keep score \n",
        "\n",
        "# DO NOT USE GOOGLE! \n",
        "## IF YOU DO, YOU MIGHT AS WELL JUST STOP AND COME BACK LATER FOR LECTURE\n",
        "- This CC is desgined to give you an overview of your current programming abilities. \n",
        "- Make comments when you are having trouble and what you would want to Google if you could.\n",
        "- In the future you will be able to look back on this and see how far along you have come.\n",
        "- One hint that may help is Python's input() function. This is the only thing you are allowed to Google but try ??input() first."
      ]
    },
    {
      "cell_type": "code",
      "metadata": {
        "id": "UsTu7cGgtluj",
        "colab_type": "code",
        "outputId": "c3c5dd05-f84f-4164-8767-d6e71139313c",
        "colab": {
          "base_uri": "https://localhost:8080/",
          "height": 756
        }
      },
      "source": [
        "# May the code be ever in your favor!\n",
        "\n",
        "import numpy as np\n",
        "from random import randint\n",
        "\n",
        "# Decision matrix to decide who wins an encounter.\n",
        "                      \n",
        "                      # Columns = Player Choice\n",
        "decision = np.array([['Draw', 'Player', 'Computer'],\n",
        "                    ['Computer', 'Draw', 'Player',], # Rows = Computer Choice\n",
        "                    ['Player', 'Computer', 'Draw']]) \n",
        "\n",
        "# Dictionary for printing out choices later\n",
        "interpret = {1: 'Rock', 2: 'Paper', 3: 'Scissors'}\n",
        "\n",
        "def play():\n",
        "  # Computer's choice\n",
        "  computer = randint(1,3)\n",
        "\n",
        "  # Let the user input their choice\n",
        "  player = int(input(\"Rock (1), Paper (2), or Scissors (3)?       \"))\n",
        "\n",
        "  # Decide outcome and print it\n",
        "  outcome = decision[computer-1, player-1]\n",
        "  if outcome == 'Draw':\n",
        "    print(\"It's a draw!\")\n",
        "  else:\n",
        "    print(outcome, \"wins!\")\n",
        "  print(f\" ______________________\\n\", \n",
        "        \"Computer chose\", interpret[computer], \"\\n\",\n",
        "        \"You chose\", interpret[player])\n",
        "  return outcome\n",
        "\n",
        "def game():\n",
        "  on = True\n",
        "  player_score = 0\n",
        "  computer_score = 0\n",
        "  while on == True:\n",
        "    print(\"\\n===============\\nYour score:\", player_score, \"\\nComputer's score:\", computer_score)\n",
        "    play_again = input(\"\\nPlay a game? y/n\")\n",
        "    if play_again == 'y':\n",
        "      win = play()\n",
        "      if win == 'Player':\n",
        "        player_score += 1\n",
        "      elif win == 'Computer':\n",
        "        computer_score += 1\n",
        "      else:\n",
        "        continue\n",
        "    else:\n",
        "      print(\"\\n===============\\nEnd game!\")\n",
        "      print(\"Your final score:\", player_score, \"\\nComputer's final score:\", computer_score)\n",
        "      on = False\n",
        "      break\n",
        "game()"
      ],
      "execution_count": 0,
      "outputs": [
        {
          "output_type": "stream",
          "text": [
            "\n",
            "===============\n",
            "Your score: 0 \n",
            "Computer's score: 0\n",
            "\n",
            "Play a game? y/ny\n",
            "Rock (1), Paper (2), or Scissors (3)?       1\n",
            "Player wins!\n",
            " ______________________\n",
            " Computer chose Scissors \n",
            " You chose Rock\n",
            "\n",
            "===============\n",
            "Your score: 1 \n",
            "Computer's score: 0\n",
            "\n",
            "Play a game? y/ny\n",
            "Rock (1), Paper (2), or Scissors (3)?       2\n",
            "Player wins!\n",
            " ______________________\n",
            " Computer chose Rock \n",
            " You chose Paper\n",
            "\n",
            "===============\n",
            "Your score: 2 \n",
            "Computer's score: 0\n",
            "\n",
            "Play a game? y/ny\n",
            "Rock (1), Paper (2), or Scissors (3)?       3\n",
            "Computer wins!\n",
            " ______________________\n",
            " Computer chose Rock \n",
            " You chose Scissors\n",
            "\n",
            "===============\n",
            "Your score: 2 \n",
            "Computer's score: 1\n",
            "\n",
            "Play a game? y/nn\n",
            "\n",
            "===============\n",
            "End game!\n",
            "Your final score: 2 \n",
            "Computer's final score: 1\n"
          ],
          "name": "stdout"
        }
      ]
    },
    {
      "cell_type": "code",
      "metadata": {
        "id": "tP88M9zJAE_K",
        "colab_type": "code",
        "colab": {}
      },
      "source": [
        ""
      ],
      "execution_count": 0,
      "outputs": []
    }
  ]
}