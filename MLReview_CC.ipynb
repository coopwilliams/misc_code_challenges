{
  "nbformat": 4,
  "nbformat_minor": 0,
  "metadata": {
    "colab": {
      "name": "MLReview CC.ipynb",
      "provenance": [],
      "collapsed_sections": [],
      "include_colab_link": true
    },
    "kernelspec": {
      "display_name": "Python 3",
      "language": "python",
      "name": "python3"
    },
    "language_info": {
      "codemirror_mode": {
        "name": "ipython",
        "version": 3
      },
      "file_extension": ".py",
      "mimetype": "text/x-python",
      "name": "python",
      "nbconvert_exporter": "python",
      "pygments_lexer": "ipython3",
      "version": "3.7.0"
    }
  },
  "cells": [
    {
      "cell_type": "markdown",
      "metadata": {
        "id": "view-in-github",
        "colab_type": "text"
      },
      "source": [
        "<a href=\"https://colab.research.google.com/github/coopwilliams/misc_code_challenges/blob/master/MLReview_CC.ipynb\" target=\"_parent\"><img src=\"https://colab.research.google.com/assets/colab-badge.svg\" alt=\"Open In Colab\"/></a>"
      ]
    },
    {
      "cell_type": "markdown",
      "metadata": {
        "id": "nCkH0_-0Wymd",
        "colab_type": "text"
      },
      "source": [
        "# Tuesday Code Challenge\n",
        "## Review: Machine Learning Workflow"
      ]
    },
    {
      "cell_type": "markdown",
      "metadata": {
        "colab_type": "text",
        "id": "_RULr569F9s-"
      },
      "source": [
        "For today's code challenge you will be working to build a models to predict a company's available liquidity. \n",
        "\n",
        "Here is a link to the dataset you will be using https://github.com/pierretd/data-dump/raw/master/finance/liquidity/DS3_liquidity_data.txt"
      ]
    },
    {
      "cell_type": "markdown",
      "metadata": {
        "colab_type": "text",
        "id": "ssD-oAcBW2uB"
      },
      "source": [
        "### 1. Data Exploration"
      ]
    },
    {
      "cell_type": "markdown",
      "metadata": {
        "id": "jDmzOFZGWyml",
        "colab_type": "text"
      },
      "source": [
        "Import NumPy, Pandas, Pyplot (from Matplotlib), and Seaborn"
      ]
    },
    {
      "cell_type": "code",
      "metadata": {
        "id": "8ZaSV_tRWymm",
        "colab_type": "code",
        "colab": {}
      },
      "source": [
        "import numpy as np\n",
        "import pandas as pd\n",
        "import matplotlib.pyplot as plt\n",
        "import seaborn as sns"
      ],
      "execution_count": 0,
      "outputs": []
    },
    {
      "cell_type": "markdown",
      "metadata": {
        "id": "lzAY0QUVWyms",
        "colab_type": "text"
      },
      "source": [
        "Import Liquidity Data.txt into a new DataFrame\n",
        "Display the first 5 rows"
      ]
    },
    {
      "cell_type": "code",
      "metadata": {
        "id": "b5medzulWymu",
        "colab_type": "code",
        "colab": {
          "base_uri": "https://localhost:8080/",
          "height": 206
        },
        "outputId": "7ee0eacc-c4e9-4c2e-8f70-2c2829b455dd"
      },
      "source": [
        "url = \"https://raw.githubusercontent.com/pierretd/data-dump/master/finance/liquidity/DS3_liquidity_data.txt\"\n",
        "df = pd.read_csv(url)\n",
        "df.head()"
      ],
      "execution_count": 18,
      "outputs": [
        {
          "output_type": "execute_result",
          "data": {
            "text/html": [
              "<div>\n",
              "<style scoped>\n",
              "    .dataframe tbody tr th:only-of-type {\n",
              "        vertical-align: middle;\n",
              "    }\n",
              "\n",
              "    .dataframe tbody tr th {\n",
              "        vertical-align: top;\n",
              "    }\n",
              "\n",
              "    .dataframe thead th {\n",
              "        text-align: right;\n",
              "    }\n",
              "</style>\n",
              "<table border=\"1\" class=\"dataframe\">\n",
              "  <thead>\n",
              "    <tr style=\"text-align: right;\">\n",
              "      <th></th>\n",
              "      <th>available_liquidity</th>\n",
              "      <th>sp_score</th>\n",
              "      <th>market_cap</th>\n",
              "      <th>total_debt</th>\n",
              "      <th>ltm_capex</th>\n",
              "      <th>ltm_ebitda</th>\n",
              "      <th>ltm_fcf</th>\n",
              "      <th>ltm_revenue</th>\n",
              "    </tr>\n",
              "  </thead>\n",
              "  <tbody>\n",
              "    <tr>\n",
              "      <th>0</th>\n",
              "      <td>28694.04271</td>\n",
              "      <td>2</td>\n",
              "      <td>54856.1961</td>\n",
              "      <td>84628.0</td>\n",
              "      <td>-9262.0</td>\n",
              "      <td>21387.00032</td>\n",
              "      <td>9488.0</td>\n",
              "      <td>170315.0</td>\n",
              "    </tr>\n",
              "    <tr>\n",
              "      <th>1</th>\n",
              "      <td>24784.00051</td>\n",
              "      <td>7</td>\n",
              "      <td>209150.6401</td>\n",
              "      <td>57909.0</td>\n",
              "      <td>-2021.0</td>\n",
              "      <td>15161.00019</td>\n",
              "      <td>12105.0</td>\n",
              "      <td>37727.0</td>\n",
              "    </tr>\n",
              "    <tr>\n",
              "      <th>2</th>\n",
              "      <td>24142.00013</td>\n",
              "      <td>6</td>\n",
              "      <td>180108.3453</td>\n",
              "      <td>32970.0</td>\n",
              "      <td>-1817.0</td>\n",
              "      <td>15818.99981</td>\n",
              "      <td>12604.0</td>\n",
              "      <td>192592.0</td>\n",
              "    </tr>\n",
              "    <tr>\n",
              "      <th>3</th>\n",
              "      <td>22132.00077</td>\n",
              "      <td>9</td>\n",
              "      <td>668024.3732</td>\n",
              "      <td>3935.0</td>\n",
              "      <td>-10263.0</td>\n",
              "      <td>31217.99987</td>\n",
              "      <td>27663.0</td>\n",
              "      <td>94765.0</td>\n",
              "    </tr>\n",
              "    <tr>\n",
              "      <th>4</th>\n",
              "      <td>20346.00000</td>\n",
              "      <td>6</td>\n",
              "      <td>144907.9931</td>\n",
              "      <td>42168.0</td>\n",
              "      <td>-3230.0</td>\n",
              "      <td>15801.00019</td>\n",
              "      <td>12061.0</td>\n",
              "      <td>78440.0</td>\n",
              "    </tr>\n",
              "  </tbody>\n",
              "</table>\n",
              "</div>"
            ],
            "text/plain": [
              "   available_liquidity  sp_score  ...  ltm_fcf  ltm_revenue\n",
              "0          28694.04271         2  ...   9488.0     170315.0\n",
              "1          24784.00051         7  ...  12105.0      37727.0\n",
              "2          24142.00013         6  ...  12604.0     192592.0\n",
              "3          22132.00077         9  ...  27663.0      94765.0\n",
              "4          20346.00000         6  ...  12061.0      78440.0\n",
              "\n",
              "[5 rows x 8 columns]"
            ]
          },
          "metadata": {
            "tags": []
          },
          "execution_count": 18
        }
      ]
    },
    {
      "cell_type": "markdown",
      "metadata": {
        "id": "44HXjHpPWymy",
        "colab_type": "text"
      },
      "source": [
        "Display the unique values in 'sp_score'"
      ]
    },
    {
      "cell_type": "code",
      "metadata": {
        "id": "KInqHU8FWym0",
        "colab_type": "code",
        "colab": {
          "base_uri": "https://localhost:8080/",
          "height": 241
        },
        "outputId": "2a61a1bf-301f-4a40-cc14-4db6a210dffa"
      },
      "source": [
        "# .unique() also works\n",
        "df.sp_score.value_counts()"
      ],
      "execution_count": 19,
      "outputs": [
        {
          "output_type": "execute_result",
          "data": {
            "text/plain": [
              "2     204\n",
              "3     160\n",
              "1     148\n",
              "4      94\n",
              "5      92\n",
              "6      38\n",
              "7      26\n",
              "0      24\n",
              "8       8\n",
              "9       6\n",
              "10      2\n",
              "Name: sp_score, dtype: int64"
            ]
          },
          "metadata": {
            "tags": []
          },
          "execution_count": 19
        }
      ]
    },
    {
      "cell_type": "markdown",
      "metadata": {
        "colab_type": "text",
        "id": "I6OQUcodW2ug"
      },
      "source": [
        "### 2. Create a X and y as well as a test train split"
      ]
    },
    {
      "cell_type": "markdown",
      "metadata": {
        "id": "E_SidY3TWym5",
        "colab_type": "text"
      },
      "source": [
        "Create your target and values to predict the target, ie X and y"
      ]
    },
    {
      "cell_type": "code",
      "metadata": {
        "id": "6zsvo_2yXli8",
        "colab_type": "code",
        "colab": {
          "base_uri": "https://localhost:8080/",
          "height": 423
        },
        "outputId": "b2f2b3e0-88ce-471b-f6e3-bdda32f55639"
      },
      "source": [
        "df.iloc[:, 1:]"
      ],
      "execution_count": 20,
      "outputs": [
        {
          "output_type": "execute_result",
          "data": {
            "text/html": [
              "<div>\n",
              "<style scoped>\n",
              "    .dataframe tbody tr th:only-of-type {\n",
              "        vertical-align: middle;\n",
              "    }\n",
              "\n",
              "    .dataframe tbody tr th {\n",
              "        vertical-align: top;\n",
              "    }\n",
              "\n",
              "    .dataframe thead th {\n",
              "        text-align: right;\n",
              "    }\n",
              "</style>\n",
              "<table border=\"1\" class=\"dataframe\">\n",
              "  <thead>\n",
              "    <tr style=\"text-align: right;\">\n",
              "      <th></th>\n",
              "      <th>sp_score</th>\n",
              "      <th>market_cap</th>\n",
              "      <th>total_debt</th>\n",
              "      <th>ltm_capex</th>\n",
              "      <th>ltm_ebitda</th>\n",
              "      <th>ltm_fcf</th>\n",
              "      <th>ltm_revenue</th>\n",
              "    </tr>\n",
              "  </thead>\n",
              "  <tbody>\n",
              "    <tr>\n",
              "      <th>0</th>\n",
              "      <td>2</td>\n",
              "      <td>54856.19610</td>\n",
              "      <td>84628.000</td>\n",
              "      <td>-9262.000</td>\n",
              "      <td>21387.000320</td>\n",
              "      <td>9488.000</td>\n",
              "      <td>170315.000</td>\n",
              "    </tr>\n",
              "    <tr>\n",
              "      <th>1</th>\n",
              "      <td>7</td>\n",
              "      <td>209150.64010</td>\n",
              "      <td>57909.000</td>\n",
              "      <td>-2021.000</td>\n",
              "      <td>15161.000190</td>\n",
              "      <td>12105.000</td>\n",
              "      <td>37727.000</td>\n",
              "    </tr>\n",
              "    <tr>\n",
              "      <th>2</th>\n",
              "      <td>6</td>\n",
              "      <td>180108.34530</td>\n",
              "      <td>32970.000</td>\n",
              "      <td>-1817.000</td>\n",
              "      <td>15818.999810</td>\n",
              "      <td>12604.000</td>\n",
              "      <td>192592.000</td>\n",
              "    </tr>\n",
              "    <tr>\n",
              "      <th>3</th>\n",
              "      <td>9</td>\n",
              "      <td>668024.37320</td>\n",
              "      <td>3935.000</td>\n",
              "      <td>-10263.000</td>\n",
              "      <td>31217.999870</td>\n",
              "      <td>27663.000</td>\n",
              "      <td>94765.000</td>\n",
              "    </tr>\n",
              "    <tr>\n",
              "      <th>4</th>\n",
              "      <td>6</td>\n",
              "      <td>144907.99310</td>\n",
              "      <td>42168.000</td>\n",
              "      <td>-3230.000</td>\n",
              "      <td>15801.000190</td>\n",
              "      <td>12061.000</td>\n",
              "      <td>78440.000</td>\n",
              "    </tr>\n",
              "    <tr>\n",
              "      <th>...</th>\n",
              "      <td>...</td>\n",
              "      <td>...</td>\n",
              "      <td>...</td>\n",
              "      <td>...</td>\n",
              "      <td>...</td>\n",
              "      <td>...</td>\n",
              "      <td>...</td>\n",
              "    </tr>\n",
              "    <tr>\n",
              "      <th>797</th>\n",
              "      <td>0</td>\n",
              "      <td>27495.05946</td>\n",
              "      <td>651.481</td>\n",
              "      <td>-135.682</td>\n",
              "      <td>38.050000</td>\n",
              "      <td>-102.099</td>\n",
              "      <td>1226.337</td>\n",
              "    </tr>\n",
              "    <tr>\n",
              "      <th>798</th>\n",
              "      <td>0</td>\n",
              "      <td>15878.59251</td>\n",
              "      <td>683.239</td>\n",
              "      <td>-172.266</td>\n",
              "      <td>-646.639984</td>\n",
              "      <td>-308.993</td>\n",
              "      <td>1183.863</td>\n",
              "    </tr>\n",
              "    <tr>\n",
              "      <th>799</th>\n",
              "      <td>3</td>\n",
              "      <td>10305.69062</td>\n",
              "      <td>0.000</td>\n",
              "      <td>-42.868</td>\n",
              "      <td>302.445000</td>\n",
              "      <td>71.567</td>\n",
              "      <td>838.977</td>\n",
              "    </tr>\n",
              "    <tr>\n",
              "      <th>800</th>\n",
              "      <td>1</td>\n",
              "      <td>5360.16896</td>\n",
              "      <td>2485.625</td>\n",
              "      <td>-695.293</td>\n",
              "      <td>432.893000</td>\n",
              "      <td>-383.397</td>\n",
              "      <td>503.586</td>\n",
              "    </tr>\n",
              "    <tr>\n",
              "      <th>801</th>\n",
              "      <td>1</td>\n",
              "      <td>15113.73926</td>\n",
              "      <td>7923.000</td>\n",
              "      <td>-120.000</td>\n",
              "      <td>2379.000000</td>\n",
              "      <td>1446.000</td>\n",
              "      <td>6549.000</td>\n",
              "    </tr>\n",
              "  </tbody>\n",
              "</table>\n",
              "<p>802 rows × 7 columns</p>\n",
              "</div>"
            ],
            "text/plain": [
              "     sp_score    market_cap  total_debt  ...    ltm_ebitda    ltm_fcf  ltm_revenue\n",
              "0           2   54856.19610   84628.000  ...  21387.000320   9488.000   170315.000\n",
              "1           7  209150.64010   57909.000  ...  15161.000190  12105.000    37727.000\n",
              "2           6  180108.34530   32970.000  ...  15818.999810  12604.000   192592.000\n",
              "3           9  668024.37320    3935.000  ...  31217.999870  27663.000    94765.000\n",
              "4           6  144907.99310   42168.000  ...  15801.000190  12061.000    78440.000\n",
              "..        ...           ...         ...  ...           ...        ...          ...\n",
              "797         0   27495.05946     651.481  ...     38.050000   -102.099     1226.337\n",
              "798         0   15878.59251     683.239  ...   -646.639984   -308.993     1183.863\n",
              "799         3   10305.69062       0.000  ...    302.445000     71.567      838.977\n",
              "800         1    5360.16896    2485.625  ...    432.893000   -383.397      503.586\n",
              "801         1   15113.73926    7923.000  ...   2379.000000   1446.000     6549.000\n",
              "\n",
              "[802 rows x 7 columns]"
            ]
          },
          "metadata": {
            "tags": []
          },
          "execution_count": 20
        }
      ]
    },
    {
      "cell_type": "code",
      "metadata": {
        "id": "-d3h8l0UWym7",
        "colab_type": "code",
        "colab": {}
      },
      "source": [
        "from sklearn.model_selection import train_test_split\n",
        "\n",
        "X_train, X_test, y_train, y_test = train_test_split(\n",
        "    df.iloc[:, 1:], df['available_liquidity'], test_size=0.2, random_state=42)"
      ],
      "execution_count": 0,
      "outputs": []
    },
    {
      "cell_type": "markdown",
      "metadata": {
        "id": "T4WtZ0YCWym-",
        "colab_type": "text"
      },
      "source": [
        "Confirm that your target and inputs were created correctly\n"
      ]
    },
    {
      "cell_type": "code",
      "metadata": {
        "id": "Vp8u5t_dWynA",
        "colab_type": "code",
        "colab": {
          "base_uri": "https://localhost:8080/",
          "height": 36
        },
        "outputId": "0d099075-cc80-434e-df10-af9fc3011653"
      },
      "source": [
        "X_train.shape, X_test.shape, y_train.shape, y_test.shape"
      ],
      "execution_count": 22,
      "outputs": [
        {
          "output_type": "execute_result",
          "data": {
            "text/plain": [
              "((641, 7), (161, 7), (641,), (161,))"
            ]
          },
          "metadata": {
            "tags": []
          },
          "execution_count": 22
        }
      ]
    },
    {
      "cell_type": "code",
      "metadata": {
        "id": "ZGiczrAZYJHp",
        "colab_type": "code",
        "colab": {
          "base_uri": "https://localhost:8080/",
          "height": 206
        },
        "outputId": "f64274c2-e231-4087-a636-27716dac4ac8"
      },
      "source": [
        "X_train.head()"
      ],
      "execution_count": 23,
      "outputs": [
        {
          "output_type": "execute_result",
          "data": {
            "text/html": [
              "<div>\n",
              "<style scoped>\n",
              "    .dataframe tbody tr th:only-of-type {\n",
              "        vertical-align: middle;\n",
              "    }\n",
              "\n",
              "    .dataframe tbody tr th {\n",
              "        vertical-align: top;\n",
              "    }\n",
              "\n",
              "    .dataframe thead th {\n",
              "        text-align: right;\n",
              "    }\n",
              "</style>\n",
              "<table border=\"1\" class=\"dataframe\">\n",
              "  <thead>\n",
              "    <tr style=\"text-align: right;\">\n",
              "      <th></th>\n",
              "      <th>sp_score</th>\n",
              "      <th>market_cap</th>\n",
              "      <th>total_debt</th>\n",
              "      <th>ltm_capex</th>\n",
              "      <th>ltm_ebitda</th>\n",
              "      <th>ltm_fcf</th>\n",
              "      <th>ltm_revenue</th>\n",
              "    </tr>\n",
              "  </thead>\n",
              "  <tbody>\n",
              "    <tr>\n",
              "      <th>432</th>\n",
              "      <td>6</td>\n",
              "      <td>164453.138400</td>\n",
              "      <td>20190.000</td>\n",
              "      <td>-4140.000</td>\n",
              "      <td>17064.999940</td>\n",
              "      <td>8009.000</td>\n",
              "      <td>55539.000</td>\n",
              "    </tr>\n",
              "    <tr>\n",
              "      <th>582</th>\n",
              "      <td>1</td>\n",
              "      <td>21016.604670</td>\n",
              "      <td>15539.300</td>\n",
              "      <td>-397.000</td>\n",
              "      <td>2464.600064</td>\n",
              "      <td>2022.600</td>\n",
              "      <td>11605.100</td>\n",
              "    </tr>\n",
              "    <tr>\n",
              "      <th>442</th>\n",
              "      <td>5</td>\n",
              "      <td>136139.530200</td>\n",
              "      <td>5180.000</td>\n",
              "      <td>-242.000</td>\n",
              "      <td>7210.999936</td>\n",
              "      <td>3979.000</td>\n",
              "      <td>11064.000</td>\n",
              "    </tr>\n",
              "    <tr>\n",
              "      <th>675</th>\n",
              "      <td>2</td>\n",
              "      <td>14288.343040</td>\n",
              "      <td>2996.400</td>\n",
              "      <td>-242.100</td>\n",
              "      <td>1322.700000</td>\n",
              "      <td>933.400</td>\n",
              "      <td>8598.800</td>\n",
              "    </tr>\n",
              "    <tr>\n",
              "      <th>334</th>\n",
              "      <td>2</td>\n",
              "      <td>8789.701632</td>\n",
              "      <td>3202.386</td>\n",
              "      <td>-87.888</td>\n",
              "      <td>1373.675008</td>\n",
              "      <td>839.534</td>\n",
              "      <td>3439.677</td>\n",
              "    </tr>\n",
              "  </tbody>\n",
              "</table>\n",
              "</div>"
            ],
            "text/plain": [
              "     sp_score     market_cap  total_debt  ...    ltm_ebitda   ltm_fcf  ltm_revenue\n",
              "432         6  164453.138400   20190.000  ...  17064.999940  8009.000    55539.000\n",
              "582         1   21016.604670   15539.300  ...   2464.600064  2022.600    11605.100\n",
              "442         5  136139.530200    5180.000  ...   7210.999936  3979.000    11064.000\n",
              "675         2   14288.343040    2996.400  ...   1322.700000   933.400     8598.800\n",
              "334         2    8789.701632    3202.386  ...   1373.675008   839.534     3439.677\n",
              "\n",
              "[5 rows x 7 columns]"
            ]
          },
          "metadata": {
            "tags": []
          },
          "execution_count": 23
        }
      ]
    },
    {
      "cell_type": "markdown",
      "metadata": {
        "id": "qjjevV0eWynF",
        "colab_type": "text"
      },
      "source": [
        "Create a train test split. Use a test size of .2 and random state 42\n"
      ]
    },
    {
      "cell_type": "markdown",
      "metadata": {
        "id": "n4CejizbWynJ",
        "colab_type": "text"
      },
      "source": [
        "Confirm that your train test split was created correctly\n"
      ]
    },
    {
      "cell_type": "markdown",
      "metadata": {
        "id": "paNFHhc9WynO",
        "colab_type": "text"
      },
      "source": [
        "Uset StandardScaler to scale the data and run a Lasso and Ridge model from sklearn\n",
        "Stretch: Create a pipeline to scale and run the model simulataneously, and use a pipeline for the other models as well\n"
      ]
    },
    {
      "cell_type": "code",
      "metadata": {
        "id": "aJRnilwBWynQ",
        "colab_type": "code",
        "colab": {}
      },
      "source": [
        "from sklearn.preprocessing import StandardScaler\n",
        "from sklearn.pipeline import Pipeline\n",
        "from sklearn.linear_model import LassoCV, RidgeCV\n",
        "from sklearn.metrics import mean_squared_error\n",
        "\n",
        "pipe = Pipeline([('standard_scaler', StandardScaler()), \n",
        "                 ('Lasso',LassoCV(cv=5))])"
      ],
      "execution_count": 0,
      "outputs": []
    },
    {
      "cell_type": "code",
      "metadata": {
        "id": "Jx-_5dXTZiP-",
        "colab_type": "code",
        "colab": {
          "base_uri": "https://localhost:8080/",
          "height": 54
        },
        "outputId": "5a8bd3f3-f806-42f2-a1af-0cac5618a58e"
      },
      "source": [
        "pipe.fit(X_train, y_train)\n",
        "print(pipe.score(X_train, y_train))\n",
        "print(pipe.score(X_test, y_test))"
      ],
      "execution_count": 37,
      "outputs": [
        {
          "output_type": "stream",
          "text": [
            "0.6226020198538277\n",
            "0.6047497972284379\n"
          ],
          "name": "stdout"
        }
      ]
    },
    {
      "cell_type": "code",
      "metadata": {
        "id": "oDAJMMH9bJ7C",
        "colab_type": "code",
        "colab": {
          "base_uri": "https://localhost:8080/",
          "height": 36
        },
        "outputId": "fc6f7520-1bc1-4705-cd89-7c9d9f646306"
      },
      "source": [
        "from math import sqrt\n",
        "y_pred = pipe.predict(X_test)\n",
        "mse = mean_squared_error(y_pred, y_test)\n",
        "print(mse, sqrt(mse))"
      ],
      "execution_count": 39,
      "outputs": [
        {
          "output_type": "stream",
          "text": [
            "6032314.871137523 2456.0771305350986\n"
          ],
          "name": "stdout"
        }
      ]
    },
    {
      "cell_type": "code",
      "metadata": {
        "id": "jM5a3l5kavxj",
        "colab_type": "code",
        "colab": {
          "base_uri": "https://localhost:8080/",
          "height": 112
        },
        "outputId": "ab02e8c7-2e3a-403b-da42-9455ab35eca3"
      },
      "source": [
        "RidgePipe = Pipeline([('standard_scaler', StandardScaler()), \n",
        "                 ('Ridge',RidgeCV(cv=5))])\n",
        "RidgePipe.fit(X_train, y_train)\n",
        "print(RidgePipe.score(X_train, y_train))\n",
        "print(RidgePipe.score(X_test, y_test))"
      ],
      "execution_count": 35,
      "outputs": [
        {
          "output_type": "stream",
          "text": [
            "0.623909063504746\n",
            "0.5969011919024689\n"
          ],
          "name": "stdout"
        },
        {
          "output_type": "stream",
          "text": [
            "/usr/local/lib/python3.6/dist-packages/sklearn/model_selection/_search.py:814: DeprecationWarning: The default of the `iid` parameter will change from True to False in version 0.22 and will be removed in 0.24. This will change numeric results when test-set sizes are unequal.\n",
            "  DeprecationWarning)\n"
          ],
          "name": "stderr"
        }
      ]
    },
    {
      "cell_type": "code",
      "metadata": {
        "id": "oPJxuh8ybjFz",
        "colab_type": "code",
        "colab": {
          "base_uri": "https://localhost:8080/",
          "height": 36
        },
        "outputId": "4b9f8902-9673-47c7-8921-a7e26550a985"
      },
      "source": [
        "y_pred = RidgePipe.predict(X_test)\n",
        "mse = mean_squared_error(y_pred, y_test)\n",
        "print(mse, sqrt(mse))"
      ],
      "execution_count": 40,
      "outputs": [
        {
          "output_type": "stream",
          "text": [
            "6152100.410255626 2480.3428009562763\n"
          ],
          "name": "stdout"
        }
      ]
    },
    {
      "cell_type": "markdown",
      "metadata": {
        "id": "jpc_K1zyWynU",
        "colab_type": "text"
      },
      "source": [
        "Run an ElasticNet model \n"
      ]
    },
    {
      "cell_type": "code",
      "metadata": {
        "id": "rRV0lgojWynU",
        "colab_type": "code",
        "colab": {
          "base_uri": "https://localhost:8080/",
          "height": 36
        },
        "outputId": "7945d008-ca6c-4f9a-b2ed-e88da2e0e000"
      },
      "source": [
        "from sklearn.linear_model import ElasticNetCV\n",
        "ElasticPipe = Pipeline([('standard_scaler', StandardScaler()), \n",
        "                 ('Elastic',ElasticNetCV(cv=5))])\n",
        "ElasticPipe.fit(X_train, y_train)\n",
        "y_pred = ElasticPipe.predict(X_test)\n",
        "mse = mean_squared_error(y_pred, y_test)\n",
        "print(mse, sqrt(mse))"
      ],
      "execution_count": 41,
      "outputs": [
        {
          "output_type": "stream",
          "text": [
            "6826316.128846951 2612.7219769518056\n"
          ],
          "name": "stdout"
        }
      ]
    },
    {
      "cell_type": "markdown",
      "metadata": {
        "id": "GGpNu6cgWynX",
        "colab_type": "text"
      },
      "source": [
        "Run a RandomForestRegressor and GradientBoostingRegressor model "
      ]
    },
    {
      "cell_type": "code",
      "metadata": {
        "id": "c2SEyGp7WynZ",
        "colab_type": "code",
        "colab": {
          "base_uri": "https://localhost:8080/",
          "height": 36
        },
        "outputId": "566ba00b-11a3-4ca6-de18-07a6678f0c26"
      },
      "source": [
        "from sklearn.ensemble import RandomForestRegressor, GradientBoostingRegressor\n",
        "\n",
        "rfr = Pipeline([('standard_scaler', StandardScaler()),\n",
        "                ('rfr', RandomForestRegressor(n_estimators=100, n_jobs=-1))])\n",
        "rfr.fit(X_train, y_train)\n",
        "y_pred = rfr.predict(X_test)\n",
        "mse = mean_squared_error(y_pred, y_test)\n",
        "print(mse, sqrt(mse))"
      ],
      "execution_count": 44,
      "outputs": [
        {
          "output_type": "stream",
          "text": [
            "2101046.631788175 1449.498751909837\n"
          ],
          "name": "stdout"
        }
      ]
    },
    {
      "cell_type": "code",
      "metadata": {
        "id": "naq1EwPkckUe",
        "colab_type": "code",
        "colab": {
          "base_uri": "https://localhost:8080/",
          "height": 36
        },
        "outputId": "6cdc78fe-4d92-49b5-f542-c3d68b8a9221"
      },
      "source": [
        "gbr = Pipeline([('standard_scaler', StandardScaler()),\n",
        "                ('gbr', GradientBoostingRegressor(n_estimators=100))])\n",
        "gbr.fit(X_train, y_train)\n",
        "y_pred = gbr.predict(X_test)\n",
        "mse = mean_squared_error(y_pred, y_test)\n",
        "print(mse, sqrt(mse))"
      ],
      "execution_count": 46,
      "outputs": [
        {
          "output_type": "stream",
          "text": [
            "2436264.6974067013 1560.8538360162688\n"
          ],
          "name": "stdout"
        }
      ]
    },
    {
      "cell_type": "markdown",
      "metadata": {
        "colab_type": "text",
        "id": "Cr3sNykgW2vS"
      },
      "source": [
        "### 3. Hyperparameter Tuning"
      ]
    },
    {
      "cell_type": "markdown",
      "metadata": {
        "id": "0HPaSpaoWynd",
        "colab_type": "text"
      },
      "source": [
        "Create a hyperparameter grid for Lasso, run the model again\n"
      ]
    },
    {
      "cell_type": "code",
      "metadata": {
        "id": "QtwBbWA7Wyne",
        "colab_type": "code",
        "colab": {
          "base_uri": "https://localhost:8080/",
          "height": 523
        },
        "outputId": "88ff7d07-f242-4ddf-d723-5c31f3326c56"
      },
      "source": [
        "from sklearn.model_selection import GridSearchCV\n",
        "\n",
        "lasso_params = {'Lasso__max_iter':[1000, 5000, 10000],\n",
        "                'Lasso__n_alphas':[100, 500, 1000]}\n",
        "\n",
        "grid_lasso = GridSearchCV(pipe, param_grid=lasso_params, n_jobs=-1)\n",
        "grid_lasso.fit(X_train, y_train)"
      ],
      "execution_count": 48,
      "outputs": [
        {
          "output_type": "stream",
          "text": [
            "/usr/local/lib/python3.6/dist-packages/sklearn/model_selection/_split.py:1978: FutureWarning: The default value of cv will change from 3 to 5 in version 0.22. Specify it explicitly to silence this warning.\n",
            "  warnings.warn(CV_WARNING, FutureWarning)\n",
            "/usr/local/lib/python3.6/dist-packages/sklearn/model_selection/_search.py:814: DeprecationWarning: The default of the `iid` parameter will change from True to False in version 0.22 and will be removed in 0.24. This will change numeric results when test-set sizes are unequal.\n",
            "  DeprecationWarning)\n"
          ],
          "name": "stderr"
        },
        {
          "output_type": "execute_result",
          "data": {
            "text/plain": [
              "GridSearchCV(cv='warn', error_score='raise-deprecating',\n",
              "             estimator=Pipeline(memory=None,\n",
              "                                steps=[('standard_scaler',\n",
              "                                        StandardScaler(copy=True,\n",
              "                                                       with_mean=True,\n",
              "                                                       with_std=True)),\n",
              "                                       ('Lasso',\n",
              "                                        LassoCV(alphas=None, copy_X=True, cv=5,\n",
              "                                                eps=0.001, fit_intercept=True,\n",
              "                                                max_iter=1000, n_alphas=100,\n",
              "                                                n_jobs=None, normalize=False,\n",
              "                                                positive=False,\n",
              "                                                precompute='auto',\n",
              "                                                random_state=None,\n",
              "                                                selection='cyclic', tol=0.0001,\n",
              "                                                verbose=False))],\n",
              "                                verbose=False),\n",
              "             iid='warn', n_jobs=-1,\n",
              "             param_grid={'Lasso__max_iter': [1000, 5000, 10000],\n",
              "                         'Lasso__n_alphas': [100, 500, 1000]},\n",
              "             pre_dispatch='2*n_jobs', refit=True, return_train_score=False,\n",
              "             scoring=None, verbose=0)"
            ]
          },
          "metadata": {
            "tags": []
          },
          "execution_count": 48
        }
      ]
    },
    {
      "cell_type": "code",
      "metadata": {
        "id": "7jcSKV9MeQOw",
        "colab_type": "code",
        "colab": {
          "base_uri": "https://localhost:8080/",
          "height": 36
        },
        "outputId": "35efc03d-a3c6-45e4-9e00-c215ecb8d4f1"
      },
      "source": [
        "y_pred = grid_lasso.best_estimator_.predict(X_test)\n",
        "mse = mean_squared_error(y_pred, y_test)\n",
        "print(mse, sqrt(mse))"
      ],
      "execution_count": 51,
      "outputs": [
        {
          "output_type": "stream",
          "text": [
            "6028881.790632842 2455.3781359767872\n"
          ],
          "name": "stdout"
        }
      ]
    },
    {
      "cell_type": "markdown",
      "metadata": {
        "id": "UuMVnA60Wyni",
        "colab_type": "text"
      },
      "source": [
        "Create a hyperparameter grid for Ridge, run the model again\n"
      ]
    },
    {
      "cell_type": "code",
      "metadata": {
        "id": "MqQKxnMFWynj",
        "colab_type": "code",
        "colab": {}
      },
      "source": [
        ""
      ],
      "execution_count": 0,
      "outputs": []
    },
    {
      "cell_type": "markdown",
      "metadata": {
        "id": "FdPAahuuWynn",
        "colab_type": "text"
      },
      "source": [
        "Create a hyperparameter grid for Elastic Net, run the model again\n"
      ]
    },
    {
      "cell_type": "code",
      "metadata": {
        "id": "vRzUixNNWyno",
        "colab_type": "code",
        "colab": {}
      },
      "source": [
        ""
      ],
      "execution_count": 0,
      "outputs": []
    },
    {
      "cell_type": "markdown",
      "metadata": {
        "id": "tBxIISfoWynq",
        "colab_type": "text"
      },
      "source": [
        "Create a hyperparameter grid for Random Forest, run the model again\n"
      ]
    },
    {
      "cell_type": "code",
      "metadata": {
        "id": "BPCCK2fOWyns",
        "colab_type": "code",
        "colab": {
          "base_uri": "https://localhost:8080/",
          "height": 93
        },
        "outputId": "fc2cde35-37cc-4008-dc15-f4533017e279"
      },
      "source": [
        "rfr_params = {'rfr__n_estimators':[100, 500, 1000],\n",
        "              'rfr__max_features':[3, 5, 7]}\n",
        "grid_rfr = GridSearchCV(rfr, param_grid=rfr_params, n_jobs=-1)\n",
        "grid_rfr.fit(X_train, y_train)\n",
        "y_pred = grid_rfr.best_estimator_.predict(X_test)\n",
        "mse = mean_squared_error(y_pred, y_test)\n",
        "print(mse, sqrt(mse))"
      ],
      "execution_count": 55,
      "outputs": [
        {
          "output_type": "stream",
          "text": [
            "/usr/local/lib/python3.6/dist-packages/sklearn/model_selection/_split.py:1978: FutureWarning: The default value of cv will change from 3 to 5 in version 0.22. Specify it explicitly to silence this warning.\n",
            "  warnings.warn(CV_WARNING, FutureWarning)\n"
          ],
          "name": "stderr"
        },
        {
          "output_type": "stream",
          "text": [
            "2015983.0883292805 1419.8531925270586\n"
          ],
          "name": "stdout"
        }
      ]
    },
    {
      "cell_type": "markdown",
      "metadata": {
        "id": "0Jc02eGYWynu",
        "colab_type": "text"
      },
      "source": [
        "Create a hyperparameter grid for Gradient Booster, run the model again"
      ]
    },
    {
      "cell_type": "code",
      "metadata": {
        "id": "6sI23pTdWynv",
        "colab_type": "code",
        "colab": {}
      },
      "source": [
        ""
      ],
      "execution_count": 0,
      "outputs": []
    },
    {
      "cell_type": "markdown",
      "metadata": {
        "colab_type": "text",
        "id": "-ed8T2D2W2v4"
      },
      "source": [
        "### 4. Selecting a Winning Model"
      ]
    },
    {
      "cell_type": "markdown",
      "metadata": {
        "id": "iG4X_xxqWyn6",
        "colab_type": "text"
      },
      "source": [
        "Import the r-squared and mean absolute error metrics and calculate them for each of the models. Which model performed best? Why do you think that model performed best?\n"
      ]
    },
    {
      "cell_type": "code",
      "metadata": {
        "id": "OLeZHTK_Wyn7",
        "colab_type": "code",
        "colab": {}
      },
      "source": [
        ""
      ],
      "execution_count": 0,
      "outputs": []
    },
    {
      "cell_type": "markdown",
      "metadata": {
        "id": "Ces8JWXVWyn9",
        "colab_type": "text"
      },
      "source": [
        "Make prediction with test data"
      ]
    },
    {
      "cell_type": "code",
      "metadata": {
        "id": "Jp5ntRT_Wyn-",
        "colab_type": "code",
        "colab": {}
      },
      "source": [
        ""
      ],
      "execution_count": 0,
      "outputs": []
    },
    {
      "cell_type": "markdown",
      "metadata": {
        "id": "tQmoh6edWyoB",
        "colab_type": "text"
      },
      "source": [
        "Plot predictions on x axis and actuals on y axis"
      ]
    },
    {
      "cell_type": "code",
      "metadata": {
        "id": "tK8KDXGTgusK",
        "colab_type": "code",
        "colab": {
          "base_uri": "https://localhost:8080/",
          "height": 206
        },
        "outputId": "36c70915-1524-4df2-97e2-ae960f1535fd"
      },
      "source": [
        "df.head()"
      ],
      "execution_count": 56,
      "outputs": [
        {
          "output_type": "execute_result",
          "data": {
            "text/html": [
              "<div>\n",
              "<style scoped>\n",
              "    .dataframe tbody tr th:only-of-type {\n",
              "        vertical-align: middle;\n",
              "    }\n",
              "\n",
              "    .dataframe tbody tr th {\n",
              "        vertical-align: top;\n",
              "    }\n",
              "\n",
              "    .dataframe thead th {\n",
              "        text-align: right;\n",
              "    }\n",
              "</style>\n",
              "<table border=\"1\" class=\"dataframe\">\n",
              "  <thead>\n",
              "    <tr style=\"text-align: right;\">\n",
              "      <th></th>\n",
              "      <th>available_liquidity</th>\n",
              "      <th>sp_score</th>\n",
              "      <th>market_cap</th>\n",
              "      <th>total_debt</th>\n",
              "      <th>ltm_capex</th>\n",
              "      <th>ltm_ebitda</th>\n",
              "      <th>ltm_fcf</th>\n",
              "      <th>ltm_revenue</th>\n",
              "    </tr>\n",
              "  </thead>\n",
              "  <tbody>\n",
              "    <tr>\n",
              "      <th>0</th>\n",
              "      <td>28694.04271</td>\n",
              "      <td>2</td>\n",
              "      <td>54856.1961</td>\n",
              "      <td>84628.0</td>\n",
              "      <td>-9262.0</td>\n",
              "      <td>21387.00032</td>\n",
              "      <td>9488.0</td>\n",
              "      <td>170315.0</td>\n",
              "    </tr>\n",
              "    <tr>\n",
              "      <th>1</th>\n",
              "      <td>24784.00051</td>\n",
              "      <td>7</td>\n",
              "      <td>209150.6401</td>\n",
              "      <td>57909.0</td>\n",
              "      <td>-2021.0</td>\n",
              "      <td>15161.00019</td>\n",
              "      <td>12105.0</td>\n",
              "      <td>37727.0</td>\n",
              "    </tr>\n",
              "    <tr>\n",
              "      <th>2</th>\n",
              "      <td>24142.00013</td>\n",
              "      <td>6</td>\n",
              "      <td>180108.3453</td>\n",
              "      <td>32970.0</td>\n",
              "      <td>-1817.0</td>\n",
              "      <td>15818.99981</td>\n",
              "      <td>12604.0</td>\n",
              "      <td>192592.0</td>\n",
              "    </tr>\n",
              "    <tr>\n",
              "      <th>3</th>\n",
              "      <td>22132.00077</td>\n",
              "      <td>9</td>\n",
              "      <td>668024.3732</td>\n",
              "      <td>3935.0</td>\n",
              "      <td>-10263.0</td>\n",
              "      <td>31217.99987</td>\n",
              "      <td>27663.0</td>\n",
              "      <td>94765.0</td>\n",
              "    </tr>\n",
              "    <tr>\n",
              "      <th>4</th>\n",
              "      <td>20346.00000</td>\n",
              "      <td>6</td>\n",
              "      <td>144907.9931</td>\n",
              "      <td>42168.0</td>\n",
              "      <td>-3230.0</td>\n",
              "      <td>15801.00019</td>\n",
              "      <td>12061.0</td>\n",
              "      <td>78440.0</td>\n",
              "    </tr>\n",
              "  </tbody>\n",
              "</table>\n",
              "</div>"
            ],
            "text/plain": [
              "   available_liquidity  sp_score  ...  ltm_fcf  ltm_revenue\n",
              "0          28694.04271         2  ...   9488.0     170315.0\n",
              "1          24784.00051         7  ...  12105.0      37727.0\n",
              "2          24142.00013         6  ...  12604.0     192592.0\n",
              "3          22132.00077         9  ...  27663.0      94765.0\n",
              "4          20346.00000         6  ...  12061.0      78440.0\n",
              "\n",
              "[5 rows x 8 columns]"
            ]
          },
          "metadata": {
            "tags": []
          },
          "execution_count": 56
        }
      ]
    },
    {
      "cell_type": "code",
      "metadata": {
        "id": "O7ykL7CEWyoB",
        "colab_type": "code",
        "colab": {
          "base_uri": "https://localhost:8080/",
          "height": 286
        },
        "outputId": "395e2b89-3bfe-43df-a459-1b245079fdb5"
      },
      "source": [
        "sns.lineplot(y_pred, y_test, ci=.95)"
      ],
      "execution_count": 61,
      "outputs": [
        {
          "output_type": "execute_result",
          "data": {
            "text/plain": [
              "<matplotlib.axes._subplots.AxesSubplot at 0x7fbfaad0ff60>"
            ]
          },
          "metadata": {
            "tags": []
          },
          "execution_count": 61
        },
        {
          "output_type": "display_data",
          "data": {
            "image/png": "[encoded data removed]",
            "text/plain": [
              "<Figure size 432x288 with 1 Axes>"
            ]
          },
          "metadata": {
            "tags": []
          }
        }
      ]
    },
    {
      "cell_type": "code",
      "metadata": {
        "colab_type": "code",
        "id": "GrZDluDIJK5O",
        "colab": {}
      },
      "source": [
        "Choose one observation to make a prediction. How big was the difference between your prediction and your mean absolute error?"
      ],
      "execution_count": 0,
      "outputs": []
    },
    {
      "cell_type": "code",
      "metadata": {
        "id": "GGH_xbaqWyoF",
        "colab_type": "code",
        "colab": {}
      },
      "source": [
        ""
      ],
      "execution_count": 0,
      "outputs": []
    }
  ]
}