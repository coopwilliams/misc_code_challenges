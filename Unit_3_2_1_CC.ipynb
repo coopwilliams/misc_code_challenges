{
  "nbformat": 4,
  "nbformat_minor": 0,
  "metadata": {
    "colab": {
      "name": "Unit-3-2.1-CC.ipynb",
      "provenance": [],
      "collapsed_sections": [],
      "include_colab_link": true
    },
    "kernelspec": {
      "name": "python3",
      "display_name": "Python 3"
    }
  },
  "cells": [
    {
      "cell_type": "markdown",
      "metadata": {
        "id": "view-in-github",
        "colab_type": "text"
      },
      "source": [
        "<a href=\"https://colab.research.google.com/github/strangelycutlemon/misc_code_challenges/blob/master/Unit_3_2_1_CC.ipynb\" target=\"_parent\"><img src=\"https://colab.research.google.com/assets/colab-badge.svg\" alt=\"Open In Colab\"/></a>"
      ]
    },
    {
      "cell_type": "markdown",
      "metadata": {
        "id": "LMKT5Epw0Prt",
        "colab_type": "text"
      },
      "source": [
        "## Create a class Tree that takes limbs, leaves, and height as arguments\n",
        "\n",
        "### Instantiate your tree using the name angry_orchard and any value for limbs, leaves and height that you see fit\n",
        "\n",
        "### Call on the limbs, leaves and height of your tree\n",
        "\n",
        "### Add a grow method that:\n",
        "- increases libs at a rate of .25 times the current number of limbs\n",
        "- increases leaves at a rate of 15 times the current number of limbs\n",
        "- increases leaves at a rate of 2 times the current number of limbs\n",
        "- Prints \"The tree grows strong.\"\n",
        "- Prints the number of libs, number of leaves and the height of the tree\n",
        "\n",
        "### Add a chop method that sets limbs, leaves and height all to zero\n",
        "- Prints \"The tree was chopped down.\"\n",
        "- Prints the number of libs, number of leaves and the height of the tree\n",
        "\n",
        "\n",
        "### Use a loop to grow your trees\n",
        "\n",
        "### Cut the tree down"
      ]
    },
    {
      "cell_type": "code",
      "metadata": {
        "id": "bQoKvmfODfo2",
        "colab_type": "code",
        "outputId": "610e2c60-4ce5-437a-f012-e6d0b5f330a6",
        "colab": {
          "base_uri": "https://localhost:8080/",
          "height": 35
        }
      },
      "source": [
        "from math import log\n",
        "\n",
        "log(500)"
      ],
      "execution_count": 0,
      "outputs": [
        {
          "output_type": "execute_result",
          "data": {
            "text/plain": [
              "6.214608098422191"
            ]
          },
          "metadata": {
            "tags": []
          },
          "execution_count": 51
        }
      ]
    },
    {
      "cell_type": "code",
      "metadata": {
        "id": "_Mh1JIeI5195",
        "colab_type": "code",
        "colab": {}
      },
      "source": [
        "from numpy.random import normal\n",
        "from random import random\n",
        "\n",
        "class Tree():\n",
        "  def __init__(self, limbs, leaves, height):\n",
        "    self.limbs = limbs\n",
        "    self.leaves = leaves\n",
        "    self.height = height\n",
        "  \n",
        "  def grow(self):\n",
        "    \"\"\" Grows the tree \"\"\"\n",
        "    self.limbs  *= 1 + (.25 * random())\n",
        "    self.leaves *= 1 + (15 * random()) * self.limbs\n",
        "    self.height *= 1 + (random() * self.limbs)\n",
        "    # print(\"The tree grows strong\")\n",
        "    # print(self.limbs, self.leaves, self.height)\n",
        "  \n",
        "  def chop(self):\n",
        "    \"\"\" Chops the tree down \"\"\"\n",
        "    print(\"The tree was chopped down\")\n",
        "    print(\"R.I.P\")\n",
        "    print(self.limbs, self.leaves, self.height)"
      ],
      "execution_count": 0,
      "outputs": []
    },
    {
      "cell_type": "code",
      "metadata": {
        "id": "ZaB8BxDm6_lW",
        "colab_type": "code",
        "colab": {}
      },
      "source": [
        "poplar = Tree(20, 400, 30)\n",
        "\n",
        "for i in range(5):\n",
        "  poplar.grow()"
      ],
      "execution_count": 0,
      "outputs": []
    },
    {
      "cell_type": "code",
      "metadata": {
        "id": "N16pVphC8LsC",
        "colab_type": "code",
        "outputId": "eb9d502f-e09c-4cd1-9d71-365f7a93fa17",
        "colab": {
          "base_uri": "https://localhost:8080/",
          "height": 69
        }
      },
      "source": [
        "poplar.chop()"
      ],
      "execution_count": 0,
      "outputs": [
        {
          "output_type": "stream",
          "text": [
            "The tree was chopped down\n",
            "R.I.P\n",
            "42.08219912381971 321164015434689.75 3897279.83673263\n"
          ],
          "name": "stdout"
        }
      ]
    },
    {
      "cell_type": "markdown",
      "metadata": {
        "id": "wdXJDXVQ1W2E",
        "colab_type": "text"
      },
      "source": [
        "\n",
        "\n",
        "---\n",
        "\n"
      ]
    },
    {
      "cell_type": "markdown",
      "metadata": {
        "id": "vOf98JoY0RSS",
        "colab_type": "text"
      },
      "source": [
        "## Stretch goal\n",
        "\n",
        "### Create a class Forest which takes number_of_trees as an arguementand creates that number of Tree objects\n",
        "- Add a method that grows all the trees in your forest\n",
        "- Add a method that plots the heights of each tree\n",
        "\n",
        "### Create your forest\n",
        "- plot the heights of all the trees\n",
        "- grow the forest\n",
        "- plot the heights again"
      ]
    },
    {
      "cell_type": "markdown",
      "metadata": {
        "id": "iRyAwVZF1X-1",
        "colab_type": "text"
      },
      "source": [
        "\n",
        "\n",
        "---\n",
        "\n"
      ]
    },
    {
      "cell_type": "code",
      "metadata": {
        "id": "pL-EhOjv0NEf",
        "colab_type": "code",
        "colab": {}
      },
      "source": [
        "\n",
        "import matplotlib.pyplot as plt\n",
        "\n",
        "\n",
        "class Forest():\n",
        "  def __init__(self, number_of_trees):\n",
        "    self.number_of_trees = number_of_trees\n",
        "    self.trees = []\n",
        "    for i in range(self.number_of_trees):\n",
        "      limbs = abs(normal(50, 20))\n",
        "      leaves = abs(normal(200, 100))\n",
        "      height = abs(normal(50, 25))\n",
        "      self.trees.append(Tree(limbs, leaves, height))\n",
        "    print(\"Forest created with\", len(self.trees), \"trees!\")\n",
        "  \n",
        "  def grow(self):\n",
        "    \"\"\" Grows the forest \"\"\"\n",
        "    for i in self.trees:\n",
        "      i.grow()\n",
        "  \n",
        "  def plot_heights(self):\n",
        "    \"\"\" Plots the heights of the tree in a bar chart \"\"\"\n",
        "    X = list(i for i in range(len(self.trees)))\n",
        "    Y = list(i.height for i in self.trees)\n",
        "    fig, ax = plt.subplots()\n",
        "    plt.bar(X, Y, color='g')\n",
        "    plt.show()\n"
      ],
      "execution_count": 0,
      "outputs": []
    },
    {
      "cell_type": "code",
      "metadata": {
        "id": "qdOJkC65_Xty",
        "colab_type": "code",
        "outputId": "92f7bab2-4ac8-447d-ad41-03d29b996598",
        "colab": {
          "base_uri": "https://localhost:8080/",
          "height": 1000
        }
      },
      "source": [
        "woods = Forest(50)\n",
        "for i in range(10):\n",
        "  woods.plot_heights()\n",
        "  woods.grow()"
      ],
      "execution_count": 0,
      "outputs": [
        {
          "output_type": "stream",
          "text": [
            "Forest created with 50 trees!\n"
          ],
          "name": "stdout"
        },
        {
          "output_type": "display_data",
          "data": {
            "image/png": "[encoded data removed]",
            "text/plain": [
              "<Figure size 432x288 with 1 Axes>"
            ]
          },
          "metadata": {
            "tags": []
          }
        },
        {
          "output_type": "display_data",
          "data": {
            "image/png": "[encoded data removed]",
            "text/plain": [
              "<Figure size 432x288 with 1 Axes>"
            ]
          },
          "metadata": {
            "tags": []
          }
        },
        {
          "output_type": "display_data",
          "data": {
            "image/png": "[encoded data removed]",
            "text/plain": [
              "<Figure size 432x288 with 1 Axes>"
            ]
          },
          "metadata": {
            "tags": []
          }
        },
        {
          "output_type": "display_data",
          "data": {
            "image/png": "[encoded data removed]",
            "text/plain": [
              "<Figure size 432x288 with 1 Axes>"
            ]
          },
          "metadata": {
            "tags": []
          }
        },
        {
          "output_type": "display_data",
          "data": {
            "image/png": "[encoded data removed]",
            "text/plain": [
              "<Figure size 432x288 with 1 Axes>"
            ]
          },
          "metadata": {
            "tags": []
          }
        },
        {
          "output_type": "display_data",
          "data": {
            "image/png": "[encoded data removed]",
            "text/plain": [
              "<Figure size 432x288 with 1 Axes>"
            ]
          },
          "metadata": {
            "tags": []
          }
        },
        {
          "output_type": "display_data",
          "data": {
            "image/png": "[encoded data removed]",
            "text/plain": [
              "<Figure size 432x288 with 1 Axes>"
            ]
          },
          "metadata": {
            "tags": []
          }
        },
        {
          "output_type": "display_data",
          "data": {
            "image/png": "[encoded data removed]",
            "text/plain": [
              "<Figure size 432x288 with 1 Axes>"
            ]
          },
          "metadata": {
            "tags": []
          }
        },
        {
          "output_type": "display_data",
          "data": {
            "image/png": "[encoded data removed]",
            "text/plain": [
              "<Figure size 432x288 with 1 Axes>"
            ]
          },
          "metadata": {
            "tags": []
          }
        },
        {
          "output_type": "display_data",
          "data": {
            "image/png": "[encoded data removed]",
            "text/plain": [
              "<Figure size 432x288 with 1 Axes>"
            ]
          },
          "metadata": {
            "tags": []
          }
        }
      ]
    },
    {
      "cell_type": "code",
      "metadata": {
        "id": "MzxGB81DBDB4",
        "colab_type": "code",
        "colab": {}
      },
      "source": [
        ""
      ],
      "execution_count": 0,
      "outputs": []
    }
  ]
}